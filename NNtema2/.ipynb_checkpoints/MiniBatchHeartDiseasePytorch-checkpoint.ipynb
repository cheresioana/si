{
 "cells": [
  {
   "cell_type": "code",
   "execution_count": 1,
   "metadata": {
    "_cell_guid": "b1076dfc-b9ad-4769-8c92-a6c4dae69d19",
    "_uuid": "8f2839f25d086af736a60e9eeb907d3b93b6e0e5",
    "colab": {},
    "colab_type": "code",
    "id": "tVm68ThnfSQw"
   },
   "outputs": [],
   "source": [
    "# This Python 3 environment comes with many helpful analytics libraries installed\n",
    "# It is defined by the kaggle/python docker image: https://github.com/kaggle/docker-python\n",
    "# For example, here's several helpful packages to load in \n",
    "\n",
    "import numpy as np # linear algebra\n",
    "import pandas as pd # data processing, CSV file I/O (e.g. pd.read_csv)\n",
    "\n",
    "# Input data files are available in the \"../input/\" directory.\n",
    "# For example, running this (by clicking run or pressing Shift+Enter) will list all files under the input directory\n",
    "\n",
    "# Any results you write to the current directory are saved as output."
   ]
  },
  {
   "cell_type": "code",
   "execution_count": 2,
   "metadata": {
    "_cell_guid": "79c7e3d0-c299-4dcb-8224-4455121ee9b0",
    "_uuid": "d629ff2d2480ee46fbb7e2d37f6b5fab8052498a",
    "colab": {},
    "colab_type": "code",
    "id": "DKMMh-YnfSQ_"
   },
   "outputs": [],
   "source": [
    "#matplotlib este folosit pentru a realiza grafice\n",
    "import matplotlib.pyplot as plt\n",
    "plt.style.use(\"ggplot\")"
   ]
  },
  {
   "cell_type": "code",
   "execution_count": 3,
   "metadata": {
    "colab": {},
    "colab_type": "code",
    "id": "XytQWckMfSRK"
   },
   "outputs": [],
   "source": [
    "df = pd.read_csv(\"heart.csv\")"
   ]
  },
  {
   "cell_type": "code",
   "execution_count": 4,
   "metadata": {
    "colab": {},
    "colab_type": "code",
    "id": "ph1yGMQAfSRS"
   },
   "outputs": [
    {
     "data": {
      "text/html": [
       "<div>\n",
       "<style scoped>\n",
       "    .dataframe tbody tr th:only-of-type {\n",
       "        vertical-align: middle;\n",
       "    }\n",
       "\n",
       "    .dataframe tbody tr th {\n",
       "        vertical-align: top;\n",
       "    }\n",
       "\n",
       "    .dataframe thead th {\n",
       "        text-align: right;\n",
       "    }\n",
       "</style>\n",
       "<table border=\"1\" class=\"dataframe\">\n",
       "  <thead>\n",
       "    <tr style=\"text-align: right;\">\n",
       "      <th></th>\n",
       "      <th>age</th>\n",
       "      <th>sex</th>\n",
       "      <th>cp</th>\n",
       "      <th>trestbps</th>\n",
       "      <th>chol</th>\n",
       "      <th>fbs</th>\n",
       "      <th>restecg</th>\n",
       "      <th>thalach</th>\n",
       "      <th>exang</th>\n",
       "      <th>oldpeak</th>\n",
       "      <th>slope</th>\n",
       "      <th>ca</th>\n",
       "      <th>thal</th>\n",
       "      <th>target</th>\n",
       "    </tr>\n",
       "  </thead>\n",
       "  <tbody>\n",
       "    <tr>\n",
       "      <td>0</td>\n",
       "      <td>63</td>\n",
       "      <td>1</td>\n",
       "      <td>3</td>\n",
       "      <td>145</td>\n",
       "      <td>233</td>\n",
       "      <td>1</td>\n",
       "      <td>0</td>\n",
       "      <td>150</td>\n",
       "      <td>0</td>\n",
       "      <td>2.3</td>\n",
       "      <td>0</td>\n",
       "      <td>0</td>\n",
       "      <td>1</td>\n",
       "      <td>1</td>\n",
       "    </tr>\n",
       "    <tr>\n",
       "      <td>1</td>\n",
       "      <td>37</td>\n",
       "      <td>1</td>\n",
       "      <td>2</td>\n",
       "      <td>130</td>\n",
       "      <td>250</td>\n",
       "      <td>0</td>\n",
       "      <td>1</td>\n",
       "      <td>187</td>\n",
       "      <td>0</td>\n",
       "      <td>3.5</td>\n",
       "      <td>0</td>\n",
       "      <td>0</td>\n",
       "      <td>2</td>\n",
       "      <td>1</td>\n",
       "    </tr>\n",
       "    <tr>\n",
       "      <td>2</td>\n",
       "      <td>41</td>\n",
       "      <td>0</td>\n",
       "      <td>1</td>\n",
       "      <td>130</td>\n",
       "      <td>204</td>\n",
       "      <td>0</td>\n",
       "      <td>0</td>\n",
       "      <td>172</td>\n",
       "      <td>0</td>\n",
       "      <td>1.4</td>\n",
       "      <td>2</td>\n",
       "      <td>0</td>\n",
       "      <td>2</td>\n",
       "      <td>1</td>\n",
       "    </tr>\n",
       "    <tr>\n",
       "      <td>3</td>\n",
       "      <td>56</td>\n",
       "      <td>1</td>\n",
       "      <td>1</td>\n",
       "      <td>120</td>\n",
       "      <td>236</td>\n",
       "      <td>0</td>\n",
       "      <td>1</td>\n",
       "      <td>178</td>\n",
       "      <td>0</td>\n",
       "      <td>0.8</td>\n",
       "      <td>2</td>\n",
       "      <td>0</td>\n",
       "      <td>2</td>\n",
       "      <td>1</td>\n",
       "    </tr>\n",
       "    <tr>\n",
       "      <td>4</td>\n",
       "      <td>57</td>\n",
       "      <td>0</td>\n",
       "      <td>0</td>\n",
       "      <td>120</td>\n",
       "      <td>354</td>\n",
       "      <td>0</td>\n",
       "      <td>1</td>\n",
       "      <td>163</td>\n",
       "      <td>1</td>\n",
       "      <td>0.6</td>\n",
       "      <td>2</td>\n",
       "      <td>0</td>\n",
       "      <td>2</td>\n",
       "      <td>1</td>\n",
       "    </tr>\n",
       "  </tbody>\n",
       "</table>\n",
       "</div>"
      ],
      "text/plain": [
       "   age  sex  cp  trestbps  chol  fbs  restecg  thalach  exang  oldpeak  slope  \\\n",
       "0   63    1   3       145   233    1        0      150      0      2.3      0   \n",
       "1   37    1   2       130   250    0        1      187      0      3.5      0   \n",
       "2   41    0   1       130   204    0        0      172      0      1.4      2   \n",
       "3   56    1   1       120   236    0        1      178      0      0.8      2   \n",
       "4   57    0   0       120   354    0        1      163      1      0.6      2   \n",
       "\n",
       "   ca  thal  target  \n",
       "0   0     1       1  \n",
       "1   0     2       1  \n",
       "2   0     2       1  \n",
       "3   0     2       1  \n",
       "4   0     2       1  "
      ]
     },
     "execution_count": 4,
     "metadata": {},
     "output_type": "execute_result"
    }
   ],
   "source": [
    "df.head()"
   ]
  },
  {
   "cell_type": "code",
   "execution_count": null,
   "metadata": {
    "colab": {},
    "colab_type": "code",
    "id": "5E3uQ9iBjyAM"
   },
   "outputs": [],
   "source": []
  },
  {
   "cell_type": "markdown",
   "metadata": {
    "colab_type": "text",
    "id": "8sJigmCckL9c"
   },
   "source": [
    "pandas_profiling - o librărie ce oferă o analiză automată a setului de date: distributii, tipuri de variabile, valori și o serie intreaga de informatii aditionale.\n",
    "Pentru a o putea folosi trebuie să ștergem libraria default din colab și să instalăm o versiune specifică. \n",
    "După instalare trebuie să facem restart la runtime."
   ]
  },
  {
   "cell_type": "code",
   "execution_count": 5,
   "metadata": {
    "colab": {},
    "colab_type": "code",
    "id": "6qOnV1ewYzpu"
   },
   "outputs": [
    {
     "name": "stdout",
     "output_type": "stream",
     "text": [
      "\u001b[33mWARNING: Skipping pandas-profiling as it is not installed.\u001b[0m\r\n"
     ]
    }
   ],
   "source": [
    "!pip uninstall pandas-profiling"
   ]
  },
  {
   "cell_type": "code",
   "execution_count": 6,
   "metadata": {
    "colab": {},
    "colab_type": "code",
    "id": "f7NHkKyBXOX8"
   },
   "outputs": [
    {
     "name": "stdout",
     "output_type": "stream",
     "text": [
      "Collecting pandas-profiling==2.7.1\n",
      "\u001b[?25l  Downloading https://files.pythonhosted.org/packages/50/8a/25da481171f4912e2515a76fe31b7a4f036a443b8858b244ef7daaffd5b6/pandas_profiling-2.7.1-py2.py3-none-any.whl (252kB)\n",
      "\u001b[K     |████████████████████████████████| 256kB 1.3MB/s eta 0:00:01\n",
      "\u001b[?25hCollecting visions[type_image_path]==0.4.1 (from pandas-profiling==2.7.1)\n",
      "\u001b[?25l  Downloading https://files.pythonhosted.org/packages/13/fe/7614dec3db3f20882ff12dae0a58b579e97b590f2994ce9c953fe179d512/visions-0.4.1-py3-none-any.whl (58kB)\n",
      "\u001b[K     |████████████████████████████████| 61kB 2.2MB/s  eta 0:00:01\n",
      "\u001b[?25hRequirement already satisfied: joblib in /home/ioana/anaconda3/lib/python3.7/site-packages (from pandas-profiling==2.7.1) (0.13.2)\n",
      "Collecting confuse>=1.0.0 (from pandas-profiling==2.7.1)\n",
      "  Downloading https://files.pythonhosted.org/packages/f7/64/85dbcea372efee5cba13eaa10a3bfa7019b8fe0c3c8314d8e189116e477a/confuse-1.1.0.tar.gz\n",
      "Requirement already satisfied: numpy>=1.16.0 in /home/ioana/anaconda3/lib/python3.7/site-packages (from pandas-profiling==2.7.1) (1.17.2)\n",
      "Collecting htmlmin>=0.1.12 (from pandas-profiling==2.7.1)\n",
      "  Downloading https://files.pythonhosted.org/packages/b3/e7/fcd59e12169de19f0131ff2812077f964c6b960e7c09804d30a7bf2ab461/htmlmin-0.1.12.tar.gz\n",
      "Collecting astropy>=4.0 (from pandas-profiling==2.7.1)\n",
      "\u001b[?25l  Downloading https://files.pythonhosted.org/packages/81/1b/80d536d16030f380fcd4bad5c38696f30476046d9f4d4813662e7f54ab7b/astropy-4.0.1.post1-cp37-cp37m-manylinux1_x86_64.whl (6.5MB)\n",
      "\u001b[K     |████████████████████████████████| 6.5MB 20.6MB/s eta 0:00:01\n",
      "\u001b[?25hCollecting pandas!=1.0.0,!=1.0.1,!=1.0.2,>=0.25.3 (from pandas-profiling==2.7.1)\n",
      "\u001b[?25l  Downloading https://files.pythonhosted.org/packages/4a/6a/94b219b8ea0f2d580169e85ed1edc0163743f55aaeca8a44c2e8fc1e344e/pandas-1.0.3-cp37-cp37m-manylinux1_x86_64.whl (10.0MB)\n",
      "\u001b[K     |████████████████████████████████| 10.0MB 33.7MB/s eta 0:00:01\n",
      "\u001b[?25hCollecting scipy>=1.4.1 (from pandas-profiling==2.7.1)\n",
      "\u001b[?25l  Downloading https://files.pythonhosted.org/packages/dd/82/c1fe128f3526b128cfd185580ba40d01371c5d299fcf7f77968e22dfcc2e/scipy-1.4.1-cp37-cp37m-manylinux1_x86_64.whl (26.1MB)\n",
      "\u001b[K     |████████████████████████████████| 26.1MB 63.0MB/s eta 0:00:01\n",
      "\u001b[?25hCollecting matplotlib>=3.2.0 (from pandas-profiling==2.7.1)\n",
      "\u001b[?25l  Downloading https://files.pythonhosted.org/packages/b2/c2/71fcf957710f3ba1f09088b35776a799ba7dd95f7c2b195ec800933b276b/matplotlib-3.2.1-cp37-cp37m-manylinux1_x86_64.whl (12.4MB)\n",
      "\u001b[K     |████████████████████████████████| 12.4MB 57.1MB/s eta 0:00:01\n",
      "\u001b[?25hCollecting missingno>=0.4.2 (from pandas-profiling==2.7.1)\n",
      "  Downloading https://files.pythonhosted.org/packages/2b/de/6e4dd6d720c49939544352155dc06a08c9f7e4271aa631a559dfbeaaf9d4/missingno-0.4.2-py3-none-any.whl\n",
      "Collecting tangled-up-in-unicode>=0.0.4 (from pandas-profiling==2.7.1)\n",
      "\u001b[?25l  Downloading https://files.pythonhosted.org/packages/4a/e2/e588ab9298d4989ce7fdb2b97d18aac878d99dbdc379a4476a09d9271b68/tangled_up_in_unicode-0.0.6-py3-none-any.whl (3.1MB)\n",
      "\u001b[K     |████████████████████████████████| 3.1MB 11.4MB/s eta 0:00:01\n",
      "\u001b[?25hCollecting requests>=2.23.0 (from pandas-profiling==2.7.1)\n",
      "\u001b[?25l  Downloading https://files.pythonhosted.org/packages/1a/70/1935c770cb3be6e3a8b78ced23d7e0f3b187f5cbfab4749523ed65d7c9b1/requests-2.23.0-py2.py3-none-any.whl (58kB)\n",
      "\u001b[K     |████████████████████████████████| 61kB 34.1MB/s eta 0:00:01\n",
      "\u001b[?25hCollecting tqdm>=4.43.0 (from pandas-profiling==2.7.1)\n",
      "\u001b[?25l  Downloading https://files.pythonhosted.org/packages/c9/40/058b12e8ba10e35f89c9b1fdfc2d4c7f8c05947df2d5eb3c7b258019fda0/tqdm-4.46.0-py2.py3-none-any.whl (63kB)\n",
      "\u001b[K     |████████████████████████████████| 71kB 37.6MB/s eta 0:00:01\n",
      "\u001b[?25hRequirement already satisfied: ipywidgets>=7.5.1 in /home/ioana/anaconda3/lib/python3.7/site-packages (from pandas-profiling==2.7.1) (7.5.1)\n",
      "Collecting phik>=0.9.10 (from pandas-profiling==2.7.1)\n",
      "\u001b[?25l  Downloading https://files.pythonhosted.org/packages/a7/86/572cecb01a104e0a12c002b0de74340fc6358aefa90cce39d5e2ffca2980/phik-0.9.12-py3-none-any.whl (610kB)\n",
      "\u001b[K     |████████████████████████████████| 614kB 45.7MB/s eta 0:00:01\n",
      "\u001b[?25hCollecting jinja2>=2.11.1 (from pandas-profiling==2.7.1)\n",
      "\u001b[?25l  Downloading https://files.pythonhosted.org/packages/30/9e/f663a2aa66a09d838042ae1a2c5659828bb9b41ea3a6efa20a20fd92b121/Jinja2-2.11.2-py2.py3-none-any.whl (125kB)\n",
      "\u001b[K     |████████████████████████████████| 133kB 37.5MB/s eta 0:00:01\n",
      "\u001b[?25hCollecting networkx>=2.4 (from visions[type_image_path]==0.4.1->pandas-profiling==2.7.1)\n",
      "\u001b[?25l  Downloading https://files.pythonhosted.org/packages/41/8f/dd6a8e85946def36e4f2c69c84219af0fa5e832b018c970e92f2ad337e45/networkx-2.4-py3-none-any.whl (1.6MB)\n",
      "\u001b[K     |████████████████████████████████| 1.6MB 64.1MB/s eta 0:00:01\n",
      "\u001b[?25hCollecting attrs>=19.3.0 (from visions[type_image_path]==0.4.1->pandas-profiling==2.7.1)\n",
      "  Downloading https://files.pythonhosted.org/packages/a2/db/4313ab3be961f7a763066401fb77f7748373b6094076ae2bda2806988af6/attrs-19.3.0-py2.py3-none-any.whl\n",
      "Requirement already satisfied: Pillow; extra == \"type_image_path\" in /home/ioana/anaconda3/lib/python3.7/site-packages (from visions[type_image_path]==0.4.1->pandas-profiling==2.7.1) (6.2.0)\n",
      "Collecting imagehash; extra == \"type_image_path\" (from visions[type_image_path]==0.4.1->pandas-profiling==2.7.1)\n",
      "\u001b[?25l  Downloading https://files.pythonhosted.org/packages/1a/5d/cc81830be3c4705a46cdbca74439b67f1017881383ba0127c41c4cecb7b3/ImageHash-4.1.0.tar.gz (291kB)\n",
      "\u001b[K     |████████████████████████████████| 296kB 16.0MB/s eta 0:00:01\n",
      "\u001b[?25hRequirement already satisfied: pyyaml in /home/ioana/anaconda3/lib/python3.7/site-packages (from confuse>=1.0.0->pandas-profiling==2.7.1) (5.1.2)\n",
      "Requirement already satisfied: python-dateutil>=2.6.1 in /home/ioana/anaconda3/lib/python3.7/site-packages (from pandas!=1.0.0,!=1.0.1,!=1.0.2,>=0.25.3->pandas-profiling==2.7.1) (2.8.0)\n",
      "Requirement already satisfied: pytz>=2017.2 in /home/ioana/anaconda3/lib/python3.7/site-packages (from pandas!=1.0.0,!=1.0.1,!=1.0.2,>=0.25.3->pandas-profiling==2.7.1) (2019.3)\n",
      "Requirement already satisfied: pyparsing!=2.0.4,!=2.1.2,!=2.1.6,>=2.0.1 in /home/ioana/anaconda3/lib/python3.7/site-packages (from matplotlib>=3.2.0->pandas-profiling==2.7.1) (2.4.2)\n",
      "Requirement already satisfied: kiwisolver>=1.0.1 in /home/ioana/anaconda3/lib/python3.7/site-packages (from matplotlib>=3.2.0->pandas-profiling==2.7.1) (1.1.0)\n",
      "Requirement already satisfied: cycler>=0.10 in /home/ioana/anaconda3/lib/python3.7/site-packages (from matplotlib>=3.2.0->pandas-profiling==2.7.1) (0.10.0)\n",
      "Requirement already satisfied: seaborn in /home/ioana/anaconda3/lib/python3.7/site-packages (from missingno>=0.4.2->pandas-profiling==2.7.1) (0.9.0)\n",
      "Requirement already satisfied: certifi>=2017.4.17 in /home/ioana/anaconda3/lib/python3.7/site-packages (from requests>=2.23.0->pandas-profiling==2.7.1) (2019.9.11)\n",
      "Requirement already satisfied: urllib3!=1.25.0,!=1.25.1,<1.26,>=1.21.1 in /home/ioana/anaconda3/lib/python3.7/site-packages (from requests>=2.23.0->pandas-profiling==2.7.1) (1.24.2)\n",
      "Requirement already satisfied: idna<3,>=2.5 in /home/ioana/anaconda3/lib/python3.7/site-packages (from requests>=2.23.0->pandas-profiling==2.7.1) (2.8)\n",
      "Requirement already satisfied: chardet<4,>=3.0.2 in /home/ioana/anaconda3/lib/python3.7/site-packages (from requests>=2.23.0->pandas-profiling==2.7.1) (3.0.4)\n",
      "Requirement already satisfied: ipython>=4.0.0; python_version >= \"3.3\" in /home/ioana/anaconda3/lib/python3.7/site-packages (from ipywidgets>=7.5.1->pandas-profiling==2.7.1) (7.8.0)\n",
      "Requirement already satisfied: widgetsnbextension~=3.5.0 in /home/ioana/anaconda3/lib/python3.7/site-packages (from ipywidgets>=7.5.1->pandas-profiling==2.7.1) (3.5.1)\n",
      "Requirement already satisfied: traitlets>=4.3.1 in /home/ioana/anaconda3/lib/python3.7/site-packages (from ipywidgets>=7.5.1->pandas-profiling==2.7.1) (4.3.3)\n",
      "Requirement already satisfied: nbformat>=4.2.0 in /home/ioana/anaconda3/lib/python3.7/site-packages (from ipywidgets>=7.5.1->pandas-profiling==2.7.1) (4.4.0)\n",
      "Requirement already satisfied: ipykernel>=4.5.1 in /home/ioana/anaconda3/lib/python3.7/site-packages (from ipywidgets>=7.5.1->pandas-profiling==2.7.1) (5.1.2)\n"
     ]
    },
    {
     "name": "stdout",
     "output_type": "stream",
     "text": [
      "Requirement already satisfied: numba>=0.38.1 in /home/ioana/anaconda3/lib/python3.7/site-packages (from phik>=0.9.10->pandas-profiling==2.7.1) (0.45.1)\n",
      "Requirement already satisfied: MarkupSafe>=0.23 in /home/ioana/anaconda3/lib/python3.7/site-packages (from jinja2>=2.11.1->pandas-profiling==2.7.1) (1.1.1)\n",
      "Requirement already satisfied: decorator>=4.3.0 in /home/ioana/anaconda3/lib/python3.7/site-packages (from networkx>=2.4->visions[type_image_path]==0.4.1->pandas-profiling==2.7.1) (4.4.0)\n",
      "Requirement already satisfied: six in /home/ioana/anaconda3/lib/python3.7/site-packages (from imagehash; extra == \"type_image_path\"->visions[type_image_path]==0.4.1->pandas-profiling==2.7.1) (1.12.0)\n",
      "Requirement already satisfied: PyWavelets in /home/ioana/anaconda3/lib/python3.7/site-packages (from imagehash; extra == \"type_image_path\"->visions[type_image_path]==0.4.1->pandas-profiling==2.7.1) (1.0.3)\n",
      "Requirement already satisfied: setuptools in /home/ioana/anaconda3/lib/python3.7/site-packages (from kiwisolver>=1.0.1->matplotlib>=3.2.0->pandas-profiling==2.7.1) (41.4.0)\n",
      "Requirement already satisfied: jedi>=0.10 in /home/ioana/anaconda3/lib/python3.7/site-packages (from ipython>=4.0.0; python_version >= \"3.3\"->ipywidgets>=7.5.1->pandas-profiling==2.7.1) (0.15.1)\n",
      "Requirement already satisfied: pygments in /home/ioana/anaconda3/lib/python3.7/site-packages (from ipython>=4.0.0; python_version >= \"3.3\"->ipywidgets>=7.5.1->pandas-profiling==2.7.1) (2.4.2)\n",
      "Requirement already satisfied: backcall in /home/ioana/anaconda3/lib/python3.7/site-packages (from ipython>=4.0.0; python_version >= \"3.3\"->ipywidgets>=7.5.1->pandas-profiling==2.7.1) (0.1.0)\n",
      "Requirement already satisfied: pexpect; sys_platform != \"win32\" in /home/ioana/anaconda3/lib/python3.7/site-packages (from ipython>=4.0.0; python_version >= \"3.3\"->ipywidgets>=7.5.1->pandas-profiling==2.7.1) (4.7.0)\n",
      "Requirement already satisfied: prompt-toolkit<2.1.0,>=2.0.0 in /home/ioana/anaconda3/lib/python3.7/site-packages (from ipython>=4.0.0; python_version >= \"3.3\"->ipywidgets>=7.5.1->pandas-profiling==2.7.1) (2.0.10)\n",
      "Requirement already satisfied: pickleshare in /home/ioana/anaconda3/lib/python3.7/site-packages (from ipython>=4.0.0; python_version >= \"3.3\"->ipywidgets>=7.5.1->pandas-profiling==2.7.1) (0.7.5)\n",
      "Requirement already satisfied: notebook>=4.4.1 in /home/ioana/anaconda3/lib/python3.7/site-packages (from widgetsnbextension~=3.5.0->ipywidgets>=7.5.1->pandas-profiling==2.7.1) (6.0.1)\n",
      "Requirement already satisfied: ipython-genutils in /home/ioana/anaconda3/lib/python3.7/site-packages (from traitlets>=4.3.1->ipywidgets>=7.5.1->pandas-profiling==2.7.1) (0.2.0)\n",
      "Requirement already satisfied: jupyter-core in /home/ioana/anaconda3/lib/python3.7/site-packages (from nbformat>=4.2.0->ipywidgets>=7.5.1->pandas-profiling==2.7.1) (4.5.0)\n",
      "Requirement already satisfied: jsonschema!=2.5.0,>=2.4 in /home/ioana/anaconda3/lib/python3.7/site-packages (from nbformat>=4.2.0->ipywidgets>=7.5.1->pandas-profiling==2.7.1) (3.0.2)\n",
      "Requirement already satisfied: tornado>=4.2 in /home/ioana/anaconda3/lib/python3.7/site-packages (from ipykernel>=4.5.1->ipywidgets>=7.5.1->pandas-profiling==2.7.1) (6.0.3)\n",
      "Requirement already satisfied: jupyter-client in /home/ioana/anaconda3/lib/python3.7/site-packages (from ipykernel>=4.5.1->ipywidgets>=7.5.1->pandas-profiling==2.7.1) (5.3.3)\n",
      "Requirement already satisfied: llvmlite>=0.29.0dev0 in /home/ioana/anaconda3/lib/python3.7/site-packages (from numba>=0.38.1->phik>=0.9.10->pandas-profiling==2.7.1) (0.29.0)\n",
      "Requirement already satisfied: parso>=0.5.0 in /home/ioana/anaconda3/lib/python3.7/site-packages (from jedi>=0.10->ipython>=4.0.0; python_version >= \"3.3\"->ipywidgets>=7.5.1->pandas-profiling==2.7.1) (0.5.1)\n",
      "Requirement already satisfied: ptyprocess>=0.5 in /home/ioana/anaconda3/lib/python3.7/site-packages (from pexpect; sys_platform != \"win32\"->ipython>=4.0.0; python_version >= \"3.3\"->ipywidgets>=7.5.1->pandas-profiling==2.7.1) (0.6.0)\n",
      "Requirement already satisfied: wcwidth in /home/ioana/anaconda3/lib/python3.7/site-packages (from prompt-toolkit<2.1.0,>=2.0.0->ipython>=4.0.0; python_version >= \"3.3\"->ipywidgets>=7.5.1->pandas-profiling==2.7.1) (0.1.7)\n",
      "Requirement already satisfied: nbconvert in /home/ioana/anaconda3/lib/python3.7/site-packages (from notebook>=4.4.1->widgetsnbextension~=3.5.0->ipywidgets>=7.5.1->pandas-profiling==2.7.1) (5.6.0)\n",
      "Requirement already satisfied: terminado>=0.8.1 in /home/ioana/anaconda3/lib/python3.7/site-packages (from notebook>=4.4.1->widgetsnbextension~=3.5.0->ipywidgets>=7.5.1->pandas-profiling==2.7.1) (0.8.2)\n",
      "Requirement already satisfied: pyzmq>=17 in /home/ioana/anaconda3/lib/python3.7/site-packages (from notebook>=4.4.1->widgetsnbextension~=3.5.0->ipywidgets>=7.5.1->pandas-profiling==2.7.1) (18.1.0)\n",
      "Requirement already satisfied: Send2Trash in /home/ioana/anaconda3/lib/python3.7/site-packages (from notebook>=4.4.1->widgetsnbextension~=3.5.0->ipywidgets>=7.5.1->pandas-profiling==2.7.1) (1.5.0)\n",
      "Requirement already satisfied: prometheus-client in /home/ioana/anaconda3/lib/python3.7/site-packages (from notebook>=4.4.1->widgetsnbextension~=3.5.0->ipywidgets>=7.5.1->pandas-profiling==2.7.1) (0.7.1)\n",
      "Requirement already satisfied: pyrsistent>=0.14.0 in /home/ioana/anaconda3/lib/python3.7/site-packages (from jsonschema!=2.5.0,>=2.4->nbformat>=4.2.0->ipywidgets>=7.5.1->pandas-profiling==2.7.1) (0.15.4)\n",
      "Requirement already satisfied: bleach in /home/ioana/anaconda3/lib/python3.7/site-packages (from nbconvert->notebook>=4.4.1->widgetsnbextension~=3.5.0->ipywidgets>=7.5.1->pandas-profiling==2.7.1) (3.1.0)\n",
      "Requirement already satisfied: entrypoints>=0.2.2 in /home/ioana/anaconda3/lib/python3.7/site-packages (from nbconvert->notebook>=4.4.1->widgetsnbextension~=3.5.0->ipywidgets>=7.5.1->pandas-profiling==2.7.1) (0.3)\n",
      "Requirement already satisfied: mistune<2,>=0.8.1 in /home/ioana/anaconda3/lib/python3.7/site-packages (from nbconvert->notebook>=4.4.1->widgetsnbextension~=3.5.0->ipywidgets>=7.5.1->pandas-profiling==2.7.1) (0.8.4)\n",
      "Requirement already satisfied: testpath in /home/ioana/anaconda3/lib/python3.7/site-packages (from nbconvert->notebook>=4.4.1->widgetsnbextension~=3.5.0->ipywidgets>=7.5.1->pandas-profiling==2.7.1) (0.4.2)\n",
      "Requirement already satisfied: pandocfilters>=1.4.1 in /home/ioana/anaconda3/lib/python3.7/site-packages (from nbconvert->notebook>=4.4.1->widgetsnbextension~=3.5.0->ipywidgets>=7.5.1->pandas-profiling==2.7.1) (1.4.2)\n",
      "Requirement already satisfied: defusedxml in /home/ioana/anaconda3/lib/python3.7/site-packages (from nbconvert->notebook>=4.4.1->widgetsnbextension~=3.5.0->ipywidgets>=7.5.1->pandas-profiling==2.7.1) (0.6.0)\n",
      "Requirement already satisfied: webencodings in /home/ioana/anaconda3/lib/python3.7/site-packages (from bleach->nbconvert->notebook>=4.4.1->widgetsnbextension~=3.5.0->ipywidgets>=7.5.1->pandas-profiling==2.7.1) (0.5.1)\n",
      "Building wheels for collected packages: confuse, htmlmin, imagehash\n",
      "  Building wheel for confuse (setup.py) ... \u001b[?25ldone\n",
      "\u001b[?25h  Created wheel for confuse: filename=confuse-1.1.0-cp37-none-any.whl size=17573 sha256=26006b6eff67fcdc3217dac4e9b4b810ae19639fcfa2378e41aecda8b2a3af4d\n",
      "  Stored in directory: /home/ioana/.cache/pip/wheels/f6/8b/23/41a1b516f6d8d4cc81f5bdb55394a47cdbe9659c53668d3c9e\n",
      "  Building wheel for htmlmin (setup.py) ... \u001b[?25ldone\n",
      "\u001b[?25h  Created wheel for htmlmin: filename=htmlmin-0.1.12-cp37-none-any.whl size=27086 sha256=77ec1c820b7eb73a363093a4c9255b377652616c0057664a71c13fb6020fae22\n",
      "  Stored in directory: /home/ioana/.cache/pip/wheels/43/07/ac/7c5a9d708d65247ac1f94066cf1db075540b85716c30255459\n",
      "  Building wheel for imagehash (setup.py) ... \u001b[?25ldone\n",
      "\u001b[?25h  Created wheel for imagehash: filename=ImageHash-4.1.0-py2.py3-none-any.whl size=291990 sha256=868d33f23d00dba3d50e13225d3eb555b9983f9261a8dc5a0196baa63f1bf88d\n",
      "  Stored in directory: /home/ioana/.cache/pip/wheels/07/1c/dc/6831446f09feb8cc199ec73a0f2f0703253f6ae013a22f4be9\n",
      "Successfully built confuse htmlmin imagehash\n",
      "\u001b[31mERROR: phik 0.9.12 has requirement joblib>=0.14.1, but you'll have joblib 0.13.2 which is incompatible.\u001b[0m\n",
      "Installing collected packages: networkx, attrs, tangled-up-in-unicode, pandas, scipy, imagehash, visions, confuse, htmlmin, astropy, matplotlib, missingno, requests, tqdm, phik, jinja2, pandas-profiling\n",
      "  Found existing installation: networkx 2.3\n"
     ]
    },
    {
     "name": "stdout",
     "output_type": "stream",
     "text": [
      "    Uninstalling networkx-2.3:\n",
      "      Successfully uninstalled networkx-2.3\n",
      "  Found existing installation: attrs 19.2.0\n",
      "    Uninstalling attrs-19.2.0:\n",
      "      Successfully uninstalled attrs-19.2.0\n",
      "  Found existing installation: pandas 0.25.1\n",
      "    Uninstalling pandas-0.25.1:\n",
      "      Successfully uninstalled pandas-0.25.1\n",
      "  Found existing installation: scipy 1.3.1\n",
      "    Uninstalling scipy-1.3.1:\n",
      "      Successfully uninstalled scipy-1.3.1\n",
      "  Found existing installation: astropy 3.2.2\n",
      "    Uninstalling astropy-3.2.2:\n",
      "      Successfully uninstalled astropy-3.2.2\n",
      "  Found existing installation: matplotlib 3.1.1\n",
      "    Uninstalling matplotlib-3.1.1:\n",
      "      Successfully uninstalled matplotlib-3.1.1\n",
      "  Found existing installation: requests 2.22.0\n",
      "    Uninstalling requests-2.22.0:\n",
      "      Successfully uninstalled requests-2.22.0\n",
      "  Found existing installation: tqdm 4.36.1\n",
      "    Uninstalling tqdm-4.36.1:\n",
      "      Successfully uninstalled tqdm-4.36.1\n",
      "  Found existing installation: Jinja2 2.10.3\n",
      "    Uninstalling Jinja2-2.10.3:\n",
      "      Successfully uninstalled Jinja2-2.10.3\n",
      "Successfully installed astropy-4.0.1.post1 attrs-19.3.0 confuse-1.1.0 htmlmin-0.1.12 imagehash-4.1.0 jinja2-2.11.2 matplotlib-3.2.1 missingno-0.4.2 networkx-2.4 pandas-1.0.3 pandas-profiling-2.7.1 phik-0.9.12 requests-2.23.0 scipy-1.4.1 tangled-up-in-unicode-0.0.6 tqdm-4.46.0 visions-0.4.1\n"
     ]
    }
   ],
   "source": [
    "!pip install pandas-profiling==2.7.1"
   ]
  },
  {
   "cell_type": "code",
   "execution_count": 7,
   "metadata": {
    "colab": {},
    "colab_type": "code",
    "id": "ntTgqB42XRSl"
   },
   "outputs": [],
   "source": [
    "from pandas_profiling import ProfileReport"
   ]
  },
  {
   "cell_type": "code",
   "execution_count": 8,
   "metadata": {
    "colab": {},
    "colab_type": "code",
    "id": "C2hBghqyXR9G"
   },
   "outputs": [],
   "source": [
    "prof=ProfileReport(df)"
   ]
  },
  {
   "cell_type": "code",
   "execution_count": 0,
   "metadata": {
    "colab": {},
    "colab_type": "code",
    "id": "E3bhlEFcWvKN"
   },
   "outputs": [],
   "source": [
    "#Statisticile pot fi salvate În format html\n",
    "prof.to_file(output_file='/content/output.html')"
   ]
  },
  {
   "cell_type": "code",
   "execution_count": 0,
   "metadata": {
    "colab": {},
    "colab_type": "code",
    "id": "5okLNZ-NV4HG"
   },
   "outputs": [],
   "source": [
    "prof"
   ]
  },
  {
   "cell_type": "code",
   "execution_count": 0,
   "metadata": {
    "colab": {},
    "colab_type": "code",
    "id": "lS4D1RFvcQsk"
   },
   "outputs": [],
   "source": [
    "#Pentru seturi de date mari este indicat să folosim versiunea minimală a librăriei\n",
    "prof=ProfileReport(df,minimal=True)"
   ]
  },
  {
   "cell_type": "code",
   "execution_count": 0,
   "metadata": {
    "colab": {},
    "colab_type": "code",
    "id": "cshaUY4VcUKC"
   },
   "outputs": [],
   "source": [
    "prof.to_file(output_file='/content/output-min.html')"
   ]
  },
  {
   "cell_type": "code",
   "execution_count": 0,
   "metadata": {
    "colab": {},
    "colab_type": "code",
    "id": "UbnJVh7JcX1m"
   },
   "outputs": [],
   "source": [
    "prof"
   ]
  },
  {
   "cell_type": "code",
   "execution_count": 0,
   "metadata": {
    "colab": {},
    "colab_type": "code",
    "id": "W_UUlJ8KfSRZ"
   },
   "outputs": [],
   "source": [
    "#Selectăm datele de intrare in retea eliminand ultima coloană din csv\n",
    "X = df.drop(\"target\", axis=1)\n",
    "#obținem etichetele pentru date salvand ultima coloana\n",
    "y = df['target']"
   ]
  },
  {
   "cell_type": "code",
   "execution_count": 0,
   "metadata": {
    "colab": {},
    "colab_type": "code",
    "id": "V-Cg9ewufSRh"
   },
   "outputs": [],
   "source": [
    "#folosim o functie din sklearn ce creaza seturi de date pentru antrenare si validare\n",
    "from sklearn.model_selection import train_test_split"
   ]
  },
  {
   "cell_type": "code",
   "execution_count": 0,
   "metadata": {
    "colab": {},
    "colab_type": "code",
    "id": "VzSoXozDfSRp"
   },
   "outputs": [],
   "source": [
    "#primim ca output seturile de date corespunzatoare.\n",
    "#Test size ne spune cat de mare procentual sa avem setul de validare\n",
    "X_train, X_test, y_train, y_test = train_test_split(X, y, test_size=0.2, shuffle=True)"
   ]
  },
  {
   "cell_type": "code",
   "execution_count": 0,
   "metadata": {
    "colab": {},
    "colab_type": "code",
    "id": "oJHOFiIKjuhm"
   },
   "outputs": [],
   "source": [
    "#Verificam distributia etichetelor de 0 si 1.\n",
    "#Suma etichetelor ne da numarul de intrari cu 1.\n",
    "#Ideal ar trebui sa avem o distributie echilibrata intre cele 2 valori\n",
    "sum(y_train), len(y_train)"
   ]
  },
  {
   "cell_type": "code",
   "execution_count": 0,
   "metadata": {
    "colab": {},
    "colab_type": "code",
    "id": "xlqD0qTQjuj8"
   },
   "outputs": [],
   "source": [
    "sum(y_test), len(y_test)"
   ]
  },
  {
   "cell_type": "code",
   "execution_count": 0,
   "metadata": {
    "colab": {},
    "colab_type": "code",
    "id": "gNbCkEgrjumv"
   },
   "outputs": [],
   "source": []
  },
  {
   "cell_type": "code",
   "execution_count": 0,
   "metadata": {
    "colab": {},
    "colab_type": "code",
    "id": "9rEU0qmIjupE"
   },
   "outputs": [],
   "source": []
  },
  {
   "cell_type": "code",
   "execution_count": 0,
   "metadata": {
    "colab": {},
    "colab_type": "code",
    "id": "_2qY5O3UfSRu"
   },
   "outputs": [],
   "source": [
    "#Pentru normalizarea datelor folosim MinMaxScaler din sklearn\n",
    "from sklearn.preprocessing import MinMaxScaler"
   ]
  },
  {
   "cell_type": "code",
   "execution_count": 0,
   "metadata": {
    "colab": {},
    "colab_type": "code",
    "id": "4bfdh7k1s8lz"
   },
   "outputs": [],
   "source": [
    "X_train"
   ]
  },
  {
   "cell_type": "code",
   "execution_count": 0,
   "metadata": {
    "colab": {},
    "colab_type": "code",
    "id": "U6UTX8sttBPn"
   },
   "outputs": [],
   "source": [
    "y_train"
   ]
  },
  {
   "cell_type": "code",
   "execution_count": 0,
   "metadata": {
    "colab": {},
    "colab_type": "code",
    "id": "-CTwxoWZfSRy"
   },
   "outputs": [],
   "source": [
    "# Functia va translata fiecare feature in parte in intervalul (-1,1)\n",
    "# Funcția practic relizează următoarele\n",
    "# X_std = (X - X.min(axis=0)) / (X.max(axis=0) - X.min(axis=0))\n",
    "# X_scaled = X_std * (max - min) + min\n",
    "\n",
    "\n",
    "sc = MinMaxScaler((-1, 1))"
   ]
  },
  {
   "cell_type": "code",
   "execution_count": 0,
   "metadata": {
    "colab": {},
    "colab_type": "code",
    "id": "DeLHff3CfSR3"
   },
   "outputs": [],
   "source": [
    "X_train = sc.fit_transform(X_train)\n",
    "X_test = sc.transform(X_test)"
   ]
  },
  {
   "cell_type": "code",
   "execution_count": 0,
   "metadata": {
    "colab": {},
    "colab_type": "code",
    "id": "dEqnXDHmfSR9"
   },
   "outputs": [],
   "source": [
    "X_test"
   ]
  },
  {
   "cell_type": "code",
   "execution_count": 0,
   "metadata": {
    "colab": {},
    "colab_type": "code",
    "id": "xa9U77VcfSSE"
   },
   "outputs": [],
   "source": [
    "len(X_train)"
   ]
  },
  {
   "cell_type": "code",
   "execution_count": 0,
   "metadata": {
    "colab": {},
    "colab_type": "code",
    "id": "sDzfegLK4dDc"
   },
   "outputs": [],
   "source": [
    "from torch.utils.data import Dataset, DataLoader"
   ]
  },
  {
   "cell_type": "code",
   "execution_count": 0,
   "metadata": {
    "colab": {},
    "colab_type": "code",
    "id": "kMSDboU8fSSQ"
   },
   "outputs": [],
   "source": [
    "import torch\n",
    "from torch import nn, optim"
   ]
  },
  {
   "cell_type": "code",
   "execution_count": 0,
   "metadata": {
    "colab": {},
    "colab_type": "code",
    "id": "VciPMpty4dGa"
   },
   "outputs": [],
   "source": [
    "#Dataset - o clasă din PyTorch foarte utilă gestionării seturilor de date\n",
    "class Dataset(Dataset):\n",
    "    \"\"\" Diabetes dataset.\"\"\"\n",
    "    # Initialize your data, download, etc.\n",
    "    def __init__(self, x, y):\n",
    "        #Citim setul de date\n",
    "        self.len = len(x)\n",
    "\n",
    "        self.x=torch.tensor(x).float()\n",
    "        self.y=torch.tensor(y.values).long()\n",
    "\n",
    "    def __getitem__(self, index):\n",
    "        return self.x[index], self.y[index]\n",
    "\n",
    "    def __len__(self):\n",
    "        return self.len"
   ]
  },
  {
   "cell_type": "code",
   "execution_count": 0,
   "metadata": {
    "colab": {},
    "colab_type": "code",
    "id": "2yf3t6Mh4dJA"
   },
   "outputs": [],
   "source": [
    "trainDataset=Dataset(X_train, y_train)"
   ]
  },
  {
   "cell_type": "code",
   "execution_count": 0,
   "metadata": {
    "colab": {},
    "colab_type": "code",
    "id": "Tb98rm-r4dMF"
   },
   "outputs": [],
   "source": [
    "trainDataset[0]"
   ]
  },
  {
   "cell_type": "code",
   "execution_count": 0,
   "metadata": {
    "colab": {},
    "colab_type": "code",
    "id": "JqEBq7LAfSSK"
   },
   "outputs": [],
   "source": [
    "trainLoader=DataLoader(dataset=trainDataset,\n",
    "                        batch_size=32,\n",
    "                        shuffle=True,\n",
    "                        num_workers=1)"
   ]
  },
  {
   "cell_type": "code",
   "execution_count": 0,
   "metadata": {
    "colab": {},
    "colab_type": "code",
    "id": "oyWaEQ9Q5268"
   },
   "outputs": [],
   "source": [
    "validationDataset=Dataset(X_test, y_test)"
   ]
  },
  {
   "cell_type": "code",
   "execution_count": 0,
   "metadata": {
    "colab": {},
    "colab_type": "code",
    "id": "WSqWWH2953Jd"
   },
   "outputs": [],
   "source": [
    "validationLoader=DataLoader(dataset=validationDataset,\n",
    "                        batch_size=32,\n",
    "                        shuffle=True,\n",
    "                        num_workers=1)"
   ]
  },
  {
   "cell_type": "code",
   "execution_count": 0,
   "metadata": {
    "colab": {},
    "colab_type": "code",
    "id": "oPIV0ruYuECM"
   },
   "outputs": [],
   "source": []
  },
  {
   "cell_type": "code",
   "execution_count": 0,
   "metadata": {
    "colab": {},
    "colab_type": "code",
    "id": "nQjv5QsKfSSk"
   },
   "outputs": [],
   "source": [
    "class HeartDiseaseNN(nn.Module):\n",
    "    def __init__(self):\n",
    "        super(HeartDiseaseNN, self).__init__()\n",
    "\n",
    "        #Sequential oferă o alternativă mai estetică a codului\n",
    "        #Rețeaua noastră are 2 neuroni pentru output. \n",
    "        #Unul va prezice probabilitatea pentru cazul afirmativ al bolii, iar celălalt va prezice probabilitatea cazului negativ al bolii.\n",
    "        self.sequential= nn.Sequential(\n",
    "            nn.Linear(13,100),\n",
    "            nn.ReLU(),\n",
    "            nn.Linear(100, 60),\n",
    "            nn.ReLU(),\n",
    "            nn.Linear(60, 2)\n",
    "        )\n",
    "\n",
    "\n",
    "    def forward(self, x):\n",
    "        return self.sequential(x)"
   ]
  },
  {
   "cell_type": "code",
   "execution_count": 0,
   "metadata": {
    "colab": {},
    "colab_type": "code",
    "id": "qI_tjxPWfSSn"
   },
   "outputs": [],
   "source": [
    "net = HeartDiseaseNN()"
   ]
  },
  {
   "cell_type": "code",
   "execution_count": 0,
   "metadata": {
    "colab": {},
    "colab_type": "code",
    "id": "eI80PhVafSSt"
   },
   "outputs": [],
   "source": [
    "optimizer = optim.SGD(net.parameters(), lr=0.01)\n",
    "# CrossEntropyLoss este folosit adeseori in problemele de clasificare\n",
    "# Acesta este compus din functia SoftMax și NLLLoss\n",
    "# Softmax - Mapează elementele din Tensor in intervalul [0,1] și face ca suma lor să fie 1. O functie foarte utilă atunci cand vrem sa calculam probabilitati dintr-un Tensor.\n",
    "# NLLLoss - negative log likelihood loss, functie folosită adeseori in problemele de clasificare\n",
    "criterion = nn.CrossEntropyLoss()\n",
    "scheduler = optim.lr_scheduler.ReduceLROnPlateau(optimizer, patience=5, verbose=True)"
   ]
  },
  {
   "cell_type": "code",
   "execution_count": 0,
   "metadata": {
    "colab": {},
    "colab_type": "code",
    "id": "RaqzqBOcfSSx"
   },
   "outputs": [],
   "source": [
    "#Colectăm loss-urile din antrenare pentru a le plota ulterior\n",
    "train_losses = []"
   ]
  },
  {
   "cell_type": "code",
   "execution_count": 0,
   "metadata": {
    "colab": {},
    "colab_type": "code",
    "id": "7qt8b44MfSS3"
   },
   "outputs": [],
   "source": [
    "# Colectăm accuratetea pentru a o plota ulterior\n",
    "accuracies=[]"
   ]
  },
  {
   "cell_type": "code",
   "execution_count": 0,
   "metadata": {
    "colab": {},
    "colab_type": "code",
    "id": "-2779h43uwuO"
   },
   "outputs": [],
   "source": [
    "from sklearn.metrics import accuracy_score"
   ]
  },
  {
   "cell_type": "code",
   "execution_count": 0,
   "metadata": {
    "colab": {},
    "colab_type": "code",
    "id": "K_woyjjffSTA"
   },
   "outputs": [],
   "source": [
    "# Training loop\n",
    "def train(epoch):\n",
    "    # Setează câteva flaguri în rețeaua neurală. Specific activează Dropout-ul și BatchNormalization dacă este cazul.\n",
    "    # În exemplul nostru are un rol pur demonstrativ, nefiind necesar.\n",
    "    net.train()\n",
    "    losses=[]\n",
    "    for batch_idx, data in enumerate(trainLoader, 0):\n",
    "      inputs, labels =data\n",
    "      #Obținem predictii\n",
    "      outputs = net(inputs)\n",
    "      # Compute and print loss\n",
    "      loss = criterion(outputs, labels)\n",
    "\n",
    "      losses.append(loss.item())\n",
    "      # Zero gradients, perform a backward pass, and update the weights.\n",
    "      optimizer.zero_grad()\n",
    "      loss.backward()\n",
    "      optimizer.step()\n",
    "      print(f\"[Train Epoch: {epoch}, Batch: {batch_idx+1}, Loss: {loss.item()}\")\n",
    "    mean_loss=sum(losses)/len(losses)\n",
    "    scheduler.step(mean_loss)\n",
    "    train_losses.append(mean_loss)\n",
    "    print(f\"[TRAIN] Epoch: {epoch} Loss:{mean_loss}\")"
   ]
  },
  {
   "cell_type": "code",
   "execution_count": 0,
   "metadata": {
    "colab": {},
    "colab_type": "code",
    "id": "pNNf-W4shrIH"
   },
   "outputs": [],
   "source": [
    "# Colectăm loss-ul din validare pentru a o plota ulterior\n",
    "test_losses=[]"
   ]
  },
  {
   "cell_type": "code",
   "execution_count": 0,
   "metadata": {
    "colab": {},
    "colab_type": "code",
    "id": "8by5McSEfSTF"
   },
   "outputs": [],
   "source": [
    "def validation():\n",
    "    #Pune pe off flagurile setate in model.train()\n",
    "    #Din nou, în exemplul nostru e pur demonstrativ.\n",
    "    net.eval()\n",
    "\n",
    "    test_loss=[]\n",
    "    correct = 0\n",
    "\n",
    "    with torch.no_grad():\n",
    "        for batch_idx, data in enumerate(validationLoader, 0):\n",
    "          inputs, labels = data\n",
    "\n",
    "          output=net(inputs)\n",
    "\n",
    "          loss= criterion(output, labels)\n",
    "          test_loss.append(loss.item())\n",
    "\n",
    "          #Obținem predictiile pentru fiecare linie din setul de validare.\n",
    "          #Practic ne returnează rezultatul cu cea mai mare probabilitate pentru fiecare intrare din setul de validare \n",
    "          pred = output.data.max(1, keepdim=True)[1]\n",
    "\n",
    "          #Verificăm câte predicții sunt corecte și le însumăm numărul pentru a afla totalul de predicții corecte\n",
    "          correct += pred.eq(labels.data.view_as(pred)).sum()\n",
    "          current_correct=pred.eq(labels.data.view_as(pred)).sum()          \n",
    "          print(\"============\")\n",
    "          print(f\"[Validation set] Batch index: {batch_idx+1} Batch loss: {loss.item()}, Accuracy: {100. * current_correct/len(inputs)}%\")\n",
    "          print(\"============\")\n",
    "        mean_loss=sum(test_loss)/len(test_loss)\n",
    "        test_losses.append(mean_loss)\n",
    "        accuracy = 100. * correct/len(validationLoader.dataset)\n",
    "        print(f\"[Validation set] Loss: {mean_loss}, Accuracy: {accuracy}%\")\n",
    "          \n",
    "        accuracies.append(accuracy)\n"
   ]
  },
  {
   "cell_type": "code",
   "execution_count": 0,
   "metadata": {
    "colab": {},
    "colab_type": "code",
    "id": "wuyLaJgafSTJ"
   },
   "outputs": [],
   "source": [
    "#după fiecare epocă de train() verificăm rezultatele pe setul de validare\n",
    "for epoch in range(100):\n",
    "  train(epoch)\n",
    "  validation()"
   ]
  },
  {
   "cell_type": "code",
   "execution_count": 0,
   "metadata": {
    "colab": {},
    "colab_type": "code",
    "id": "CNO72JVEjVy1"
   },
   "outputs": [],
   "source": [
    "# Printăm comparativ cu roșu loss-ul de pe setul de validare și cu albastru loss-ul de pe setul de validare.\n",
    "plt.plot(train_losses, \"r-\", test_losses, \"b-\")"
   ]
  },
  {
   "cell_type": "code",
   "execution_count": 0,
   "metadata": {
    "colab": {},
    "colab_type": "code",
    "id": "iJk5Y0GatLMr"
   },
   "outputs": [],
   "source": [
    "plt.plot(accuracies)"
   ]
  },
  {
   "cell_type": "code",
   "execution_count": 0,
   "metadata": {
    "colab": {},
    "colab_type": "code",
    "id": "a9oNbLYZfSTU"
   },
   "outputs": [],
   "source": [
    "#Let's try and feed a single example in the neural network and see if it gets it right\n",
    "def try_a_single_example_with_the_network(index_from_the_validation_set):\n",
    "  with torch.no_grad():\n",
    "    pred_test = net(validationDataset[index_from_the_validation_set][0].view(1, -1))\n",
    "    _, preds_y = torch.max(pred_test, 1)\n",
    "    return preds_y"
   ]
  },
  {
   "cell_type": "code",
   "execution_count": 0,
   "metadata": {
    "colab": {},
    "colab_type": "code",
    "id": "FGj9CYP6yfZz"
   },
   "outputs": [],
   "source": [
    "index_of_test=30"
   ]
  },
  {
   "cell_type": "code",
   "execution_count": 0,
   "metadata": {
    "colab": {},
    "colab_type": "code",
    "id": "UnsqqEqMuI67"
   },
   "outputs": [],
   "source": [
    "print(f\"Neural network response is: {try_a_single_example_with_the_network(index_of_test).item()}\")\n",
    "print(f\"Actual response is: {validationDataset[index_of_test][1].view(-1).item()}\")\n"
   ]
  },
  {
   "cell_type": "code",
   "execution_count": 0,
   "metadata": {
    "colab": {},
    "colab_type": "code",
    "id": "pVbvWrE2uI9q"
   },
   "outputs": [],
   "source": []
  },
  {
   "cell_type": "code",
   "execution_count": 0,
   "metadata": {
    "colab": {},
    "colab_type": "code",
    "id": "UwjpjFuifSTi"
   },
   "outputs": [],
   "source": []
  }
 ],
 "metadata": {
  "colab": {
   "name": "MiniBatchHeartDiseasePytorch.ipynb",
   "provenance": []
  },
  "kernelspec": {
   "display_name": "Python 3",
   "language": "python",
   "name": "python3"
  },
  "language_info": {
   "codemirror_mode": {
    "name": "ipython",
    "version": 3
   },
   "file_extension": ".py",
   "mimetype": "text/x-python",
   "name": "python",
   "nbconvert_exporter": "python",
   "pygments_lexer": "ipython3",
   "version": "3.7.4"
  }
 },
 "nbformat": 4,
 "nbformat_minor": 1
}
