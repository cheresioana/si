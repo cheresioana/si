{
 "cells": [
  {
   "cell_type": "code",
   "execution_count": 0,
   "metadata": {
    "colab": {},
    "colab_type": "code",
    "id": "axshkt9lNVwd"
   },
   "outputs": [],
   "source": [
    "#Matplotlib - librărie folosită pentru figuri grafice\n",
    "import matplotlib.pyplot as plt\n",
    "#Numpy - librărie pentru operații numerice\n",
    "import numpy as np\n",
    "\n",
    "# PyTorch - framework pentru Machine Learning\n",
    "import torch\n",
    "# nn - neural network\n",
    "import torch.nn as nn"
   ]
  },
  {
   "cell_type": "code",
   "execution_count": 0,
   "metadata": {
    "colab": {},
    "colab_type": "code",
    "id": "OdDUpGTFNW8O"
   },
   "outputs": [],
   "source": [
    "#Generare set de date de training folosind matplotlib\n",
    "x = np.random.rand(100)\n",
    "y = np.sin(x) * np.power(x,3) + 3*x + np.random.rand(100)*0.8\n",
    "\n",
    "plt.scatter(x, y)\n",
    "plt.show()"
   ]
  },
  {
   "cell_type": "code",
   "execution_count": 0,
   "metadata": {
    "colab": {},
    "colab_type": "code",
    "id": "YMMBmIFgQHTS"
   },
   "outputs": [],
   "source": [
    "print(x)"
   ]
  },
  {
   "cell_type": "code",
   "execution_count": 0,
   "metadata": {
    "colab": {},
    "colab_type": "code",
    "id": "1G8WwUP6QJ3R"
   },
   "outputs": [],
   "source": [
    "#\n",
    "print(x.shape)"
   ]
  },
  {
   "cell_type": "code",
   "execution_count": 0,
   "metadata": {
    "colab": {},
    "colab_type": "code",
    "id": "2vcx6fUyQMtD"
   },
   "outputs": [],
   "source": [
    "print(x.reshape(-1,1))"
   ]
  },
  {
   "cell_type": "code",
   "execution_count": 0,
   "metadata": {
    "colab": {},
    "colab_type": "code",
    "id": "J0OrmzcOQMvR"
   },
   "outputs": [],
   "source": [
    "print(x.reshape(-1,1).shape)"
   ]
  },
  {
   "cell_type": "code",
   "execution_count": 0,
   "metadata": {
    "colab": {},
    "colab_type": "code",
    "id": "XtCuuKwkNW_O"
   },
   "outputs": [],
   "source": [
    "# convert numpy array to tensor in shape of input size\n",
    "x = torch.from_numpy(x.reshape(-1,1)).float()\n",
    "y = torch.from_numpy(y.reshape(-1,1)).float()\n",
    "print(x, y)"
   ]
  },
  {
   "cell_type": "code",
   "execution_count": 0,
   "metadata": {
    "colab": {},
    "colab_type": "code",
    "id": "1Ifj96qCNXB5"
   },
   "outputs": [],
   "source": []
  },
  {
   "cell_type": "code",
   "execution_count": 0,
   "metadata": {
    "colab": {},
    "colab_type": "code",
    "id": "H0pm5IFKNXE_"
   },
   "outputs": [],
   "source": [
    "class Net(nn.Module):\n",
    "   def __init__(self):\n",
    "       super(Net, self).__init__()\n",
    "       self.layer = torch.nn.Linear(1, 1)\n",
    "\n",
    "   def forward(self, x):\n",
    "       x = self.layer(x)      \n",
    "       return x"
   ]
  },
  {
   "cell_type": "code",
   "execution_count": 0,
   "metadata": {
    "colab": {},
    "colab_type": "code",
    "id": "L5Ek64bZNXHD"
   },
   "outputs": [],
   "source": [
    "net = Net()\n",
    "print(net)"
   ]
  },
  {
   "cell_type": "code",
   "execution_count": 0,
   "metadata": {
    "colab": {},
    "colab_type": "code",
    "id": "vyQvlDq2H1P2"
   },
   "outputs": [],
   "source": [
    "# Define Optimizer and Loss Function\n",
    "\n",
    "# Optimizer \n",
    "# SGD - Stocastic Gradient Descent \n",
    "# Lr - Learning Rate\n",
    "optimizer = torch.optim.SGD(net.parameters(), lr=0.2)\n",
    "\n",
    "#MSELoss - Mean Square Error Loss \n",
    "loss_func = torch.nn.MSELoss()"
   ]
  },
  {
   "cell_type": "code",
   "execution_count": 0,
   "metadata": {
    "colab": {},
    "colab_type": "code",
    "id": "cqq5bKe3H1Sg"
   },
   "outputs": [],
   "source": [
    "inputs = x\n",
    "outputs = y\n",
    "\n",
    "for i in range(250):\n",
    "\n",
    "   # Forward prin rețeaua neurală\n",
    "   prediction = net(inputs)\n",
    "\n",
    "   #Calculăm loss-ul\n",
    "   loss = loss_func(prediction, outputs)\n",
    "   \n",
    "   #Ștergem gradientul anterior\n",
    "   optimizer.zero_grad()\n",
    "   \n",
    "   #Realizăm backpropagation. Obținem gradientul pentru parametrii rețelei neurale\n",
    "   loss.backward()        \n",
    "   \n",
    "   #Updatăm parametrii rețelei în funcție de calculele făcute\n",
    "   optimizer.step()       \n",
    "\n",
    "   if i % 10 == 0:\n",
    "       # plot and show learning process\n",
    "       plt.cla()\n",
    "       plt.scatter(x.data.numpy(), y.data.numpy())\n",
    "       plt.plot(x.data.numpy(), prediction.data.numpy(), 'r-', lw=2)\n",
    "       plt.text(0.5, 0, 'Loss=%.4f' % loss.data.numpy(), fontdict={'size': 10, 'color':  'red'})\n",
    "       plt.pause(0.1)\n",
    "\n",
    "plt.show()"
   ]
  },
  {
   "cell_type": "code",
   "execution_count": 0,
   "metadata": {
    "colab": {},
    "colab_type": "code",
    "id": "8hYh9bSrH1VM"
   },
   "outputs": [],
   "source": []
  },
  {
   "cell_type": "code",
   "execution_count": 0,
   "metadata": {
    "colab": {},
    "colab_type": "code",
    "id": "b8d_9JI6H1XG"
   },
   "outputs": [],
   "source": []
  },
  {
   "cell_type": "code",
   "execution_count": 0,
   "metadata": {
    "colab": {},
    "colab_type": "code",
    "id": "lM3yzlgtH1az"
   },
   "outputs": [],
   "source": []
  },
  {
   "cell_type": "code",
   "execution_count": 0,
   "metadata": {
    "colab": {},
    "colab_type": "code",
    "id": "kVxk-qniH1dF"
   },
   "outputs": [],
   "source": []
  },
  {
   "cell_type": "code",
   "execution_count": 0,
   "metadata": {
    "colab": {},
    "colab_type": "code",
    "id": "1vT48XGiH1eu"
   },
   "outputs": [],
   "source": []
  },
  {
   "cell_type": "code",
   "execution_count": 0,
   "metadata": {
    "colab": {},
    "colab_type": "code",
    "id": "F36s88bjH1h2"
   },
   "outputs": [],
   "source": []
  },
  {
   "cell_type": "code",
   "execution_count": 0,
   "metadata": {
    "colab": {},
    "colab_type": "code",
    "id": "s89e8gjFH1j1"
   },
   "outputs": [],
   "source": []
  },
  {
   "cell_type": "code",
   "execution_count": 0,
   "metadata": {
    "colab": {},
    "colab_type": "code",
    "id": "5K5luyl5H1mX"
   },
   "outputs": [],
   "source": []
  }
 ],
 "metadata": {
  "colab": {
   "name": "SimpleLinearRegressionInPyTorch.ipynb",
   "provenance": []
  },
  "kernelspec": {
   "display_name": "Python 3",
   "language": "python",
   "name": "python3"
  },
  "language_info": {
   "codemirror_mode": {
    "name": "ipython",
    "version": 3
   },
   "file_extension": ".py",
   "mimetype": "text/x-python",
   "name": "python",
   "nbconvert_exporter": "python",
   "pygments_lexer": "ipython3",
   "version": "3.7.4"
  }
 },
 "nbformat": 4,
 "nbformat_minor": 1
}
