{
 "cells": [
  {
   "cell_type": "markdown",
   "metadata": {
    "colab_type": "text",
    "id": "mdAxpsvjfBZq"
   },
   "source": [
    "# Perceptron pentru implementarea functiei logice or\n"
   ]
  },
  {
   "cell_type": "markdown",
   "metadata": {},
   "source": [
    "Perceptronul are 3 parti importante:\n",
    "## 1. Initializare (__init__)\n",
    "\n",
    "In partea de initializare se seteaza parametrii:\n",
    "\n",
    "    a: no_of_inputs -> cate inputuri are perceptronul, ceea ce implica si cate weight-uri are\n",
    "    \n",
    "    b: threshold -> de cate ori sa itereze perceptronul prin toate inputurile (epochs)\n",
    "    \n",
    "    c: learning rate -> cu cat sa se schimbe valoarea weght-urilor la fiecare update\n",
    "    "
   ]
  },
  {
   "cell_type": "markdown",
   "metadata": {},
   "source": [
    "## 2. Predictir (predict)\n",
    "\n",
    "Pentru predictie perceptronul trebuie sa faca inputs * weights + bias  > 0 ? 1 : 0\n",
    "\n",
    "Bias-ul este in weights[0] motiv pentru care il adaugam la final\n"
   ]
  },
  {
   "cell_type": "markdown",
   "metadata": {},
   "source": [
    "## 3. Train\n",
    "\n",
    "    a: se face un predict\n",
    "    \n",
    "    b: se face update la weight-uri conform predictului"
   ]
  },
  {
   "cell_type": "code",
   "execution_count": 20,
   "metadata": {
    "colab": {},
    "colab_type": "code",
    "id": "NT0EMWZimBCv"
   },
   "outputs": [],
   "source": [
    "import numpy as np\n",
    "\n",
    "class Perceptron(object):\n",
    "\n",
    "    def __init__(self, no_of_inputs, threshold=2, learning_rate=0.01):\n",
    "        self.threshold = threshold\n",
    "        self.learning_rate = learning_rate\n",
    "        self.weights = np.zeros(no_of_inputs + 1)\n",
    "           \n",
    "    def predict(self, inputs):\n",
    "        summation = np.dot(inputs, self.weights[1:]) + self.weights[0]\n",
    "        if summation > 0:\n",
    "          activation = 1\n",
    "        else:\n",
    "          activation = 0            \n",
    "        return activation\n",
    "\n",
    "    def train(self, training_inputs, labels):\n",
    "        for _ in range(self.threshold):\n",
    "            for inputs, label in zip(training_inputs, labels):\n",
    "                prediction = self.predict(inputs)\n",
    "                self.weights[1:] += self.learning_rate * (label - prediction) * inputs\n",
    "                self.weights[0] += self.learning_rate * (label - prediction)"
   ]
  },
  {
   "cell_type": "code",
   "execution_count": 39,
   "metadata": {
    "colab": {
     "base_uri": "https://localhost:8080/",
     "height": 34
    },
    "colab_type": "code",
    "id": "ZsBRPwkKmIN0",
    "outputId": "ea147abd-6400-42c1-998e-c13ed3a905ca"
   },
   "outputs": [
    {
     "name": "stdout",
     "output_type": "stream",
     "text": [
      "Computed weights[0.   0.01 0.01]\n"
     ]
    }
   ],
   "source": [
    "training_inputs = []\n",
    "training_inputs.append(np.array([1, 1]))\n",
    "training_inputs.append(np.array([1, 0]))\n",
    "training_inputs.append(np.array([0, 1]))\n",
    "training_inputs.append(np.array([0, 0]))\n",
    "\n",
    "labels = np.array([1, 1, 1, 0])\n",
    "\n",
    "perceptron = Perceptron(2)\n",
    "perceptron.train(training_inputs, labels)\n",
    "\n",
    "weights = perceptron.weights\n",
    "print(f\"Computed weights{weights}\")\n",
    "\n",
    "\n",
    "\n"
   ]
  },
  {
   "cell_type": "code",
   "execution_count": 38,
   "metadata": {},
   "outputs": [
    {
     "name": "stdout",
     "output_type": "stream",
     "text": [
      "Predicted value for 1 or 1 = 1\n",
      "Computing 0.0 + 0.01 * 1 + 0.01 * 1 = 0.02\n",
      "\n",
      "Predicted value for 0 or 1 = 1\n",
      "Computing 0.0 + 0.01 * 0 + 0.01 * 1 = 0.01\n",
      "\n",
      "Predicted value for 1 or 0 = 1\n",
      "Computing 0.0 + 0.01 * 1 + 0.01 * 0 = 0.01\n",
      "\n",
      "Predicted value for 0 or 0 = 0\n",
      "Computing 0.0 + 0.01 * 0 + 0.01 * 0 = 0.0\n",
      "\n"
     ]
    }
   ],
   "source": [
    "inputs = np.array([1, 1])\n",
    "print(f\"Predicted value for 1 or 1 = {perceptron.predict(inputs)}\")\n",
    "print(f\"Computing {weights[0]} + {weights[1]} * {inputs[0]} + {weights[2]} * {inputs[1]} = {np.dot(inputs, weights[1:]) + weights[0]}\\n\")\n",
    "\n",
    "inputs = np.array([0, 1])\n",
    "print(f\"Predicted value for 0 or 1 = {perceptron.predict(inputs)}\")\n",
    "print(f\"Computing {weights[0]} + {weights[1]} * {inputs[0]} + {weights[2]} * {inputs[1]} = {np.dot(inputs, weights[1:]) + weights[0]}\\n\")\n",
    "inputs = np.array([1, 0])\n",
    "print(f\"Predicted value for 1 or 0 = {perceptron.predict(inputs)}\")\n",
    "print(f\"Computing {weights[0]} + {weights[1]} * {inputs[0]} + {weights[2]} * {inputs[1]} = {np.dot(inputs, weights[1:]) + weights[0]}\\n\")\n",
    "inputs = np.array([0, 0])\n",
    "print(f\"Predicted value for 0 or 0 = {perceptron.predict(inputs)}\")\n",
    "print(f\"Computing {weights[0]} + {weights[1]} * {inputs[0]} + {weights[2]} * {inputs[1]} = {np.dot(inputs, weights[1:]) + weights[0]}\\n\")"
   ]
  },
  {
   "cell_type": "code",
   "execution_count": null,
   "metadata": {},
   "outputs": [],
   "source": []
  }
 ],
 "metadata": {
  "colab": {
   "collapsed_sections": [],
   "name": "Lab_si_perceptron.ipynb",
   "provenance": []
  },
  "kernelspec": {
   "display_name": "Python 3",
   "language": "python",
   "name": "python3"
  },
  "language_info": {
   "codemirror_mode": {
    "name": "ipython",
    "version": 3
   },
   "file_extension": ".py",
   "mimetype": "text/x-python",
   "name": "python",
   "nbconvert_exporter": "python",
   "pygments_lexer": "ipython3",
   "version": "3.7.4"
  }
 },
 "nbformat": 4,
 "nbformat_minor": 1
}
