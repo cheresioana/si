{
 "cells": [
  {
   "cell_type": "markdown",
   "metadata": {
    "colab_type": "text",
    "id": "mdAxpsvjfBZq"
   },
   "source": [
    "perceptron 1"
   ]
  },
  {
   "cell_type": "code",
   "execution_count": 1,
   "metadata": {
    "colab": {},
    "colab_type": "code",
    "id": "6EdILnCpZT2K"
   },
   "outputs": [],
   "source": [
    "inputs = [1, 0, 1, 0]\n",
    "weights=[2, 3, 1, 3]\n",
    "bias = 2"
   ]
  },
  {
   "cell_type": "code",
   "execution_count": 2,
   "metadata": {
    "colab": {
     "base_uri": "https://localhost:8080/",
     "height": 34
    },
    "colab_type": "code",
    "id": "hXt8zpZudDti",
    "outputId": "499b2be8-4a2e-44c8-f819-584816714723"
   },
   "outputs": [
    {
     "name": "stdout",
     "output_type": "stream",
     "text": [
      "3\n"
     ]
    }
   ],
   "source": [
    "def perce_fct(inputs, weights):\n",
    "  sum = 0\n",
    "  for i in range(len(inputs)):\n",
    "    sum += inputs[i]*weights[i]\n",
    "  return sum;\n",
    "sum = perce_fct(inputs, weights)  \n",
    "print(sum)"
   ]
  },
  {
   "cell_type": "code",
   "execution_count": 3,
   "metadata": {
    "colab": {
     "base_uri": "https://localhost:8080/",
     "height": 34
    },
    "colab_type": "code",
    "id": "AwebDfs1dsAS",
    "outputId": "35680093-d3ab-4a2f-8408-e7cc99307373"
   },
   "outputs": [
    {
     "name": "stdout",
     "output_type": "stream",
     "text": [
      "Activation\n"
     ]
    }
   ],
   "source": [
    "if (sum > bias):\n",
    "  print(\"Activation\")\n",
    "else:\n",
    "  print(\"Not active\")"
   ]
  },
  {
   "cell_type": "code",
   "execution_count": null,
   "metadata": {
    "colab": {},
    "colab_type": "code",
    "id": "WIx-ZPC4e_UG"
   },
   "outputs": [],
   "source": []
  },
  {
   "cell_type": "markdown",
   "metadata": {
    "colab_type": "text",
    "id": "4JnscFK-fAKa"
   },
   "source": [
    "and perceptron"
   ]
  },
  {
   "cell_type": "code",
   "execution_count": 4,
   "metadata": {
    "colab": {
     "base_uri": "https://localhost:8080/",
     "height": 34
    },
    "colab_type": "code",
    "id": "Cnj4-aAffG_5",
    "outputId": "87c78bb4-801f-4098-cf3e-76273735031e"
   },
   "outputs": [
    {
     "data": {
      "text/plain": [
       "False"
      ]
     },
     "execution_count": 4,
     "metadata": {},
     "output_type": "execute_result"
    }
   ],
   "source": [
    "x1 = 0\n",
    "x2 = 0\n",
    "\n",
    "def and_p(x1, x2):\n",
    "  bias = -3;\n",
    "  w = 3;\n",
    "  return x1*w + x2 * w + bias > 0\n",
    "\n",
    "and_p(x1, x2)"
   ]
  },
  {
   "cell_type": "markdown",
   "metadata": {
    "colab_type": "text",
    "id": "DitOu5Nog2c1"
   },
   "source": [
    "P3"
   ]
  },
  {
   "cell_type": "code",
   "execution_count": null,
   "metadata": {
    "colab": {},
    "colab_type": "code",
    "id": "wc0IGGGKg3kq"
   },
   "outputs": [],
   "source": []
  },
  {
   "cell_type": "code",
   "execution_count": 5,
   "metadata": {
    "colab": {},
    "colab_type": "code",
    "id": "EJF6hUB6g5sY"
   },
   "outputs": [],
   "source": [
    "inputs = [{\"inp\":[1, 1, 1], \"exp\":1},{\"inp\":[1, 0, 1], \"exp\":0}, {\"inp\":[1, 0, 0], \"exp\":0}, {\"inp\":[1, 1, 0], \"exp\":0}];\n",
    "weights=[0, 0, 0]"
   ]
  },
  {
   "cell_type": "code",
   "execution_count": 6,
   "metadata": {
    "colab": {},
    "colab_type": "code",
    "id": "lBetuofUhT3L"
   },
   "outputs": [],
   "source": [
    "def activation(inputs, weights):\n",
    "  sum = perce_fct(inputs, weights)\n",
    "  if(sum > 0):\n",
    "    return 1\n",
    "  return 0"
   ]
  },
  {
   "cell_type": "code",
   "execution_count": 7,
   "metadata": {
    "colab": {},
    "colab_type": "code",
    "id": "5jV9pQi4j0Ie"
   },
   "outputs": [],
   "source": [
    "def change_with(weights, value, inputs):\n",
    "  for i in range(len(weights)):\n",
    "    weights[i] = weights[i] + inputs[i] * value;\n",
    "  return weights"
   ]
  },
  {
   "cell_type": "code",
   "execution_count": 8,
   "metadata": {
    "colab": {
     "base_uri": "https://localhost:8080/",
     "height": 34
    },
    "colab_type": "code",
    "id": "ICjzGLjHiIvu",
    "outputId": "5baa034c-fb5d-42f1-bb78-963362667a17"
   },
   "outputs": [
    {
     "name": "stdout",
     "output_type": "stream",
     "text": [
      "[-2, 2, 1]\n"
     ]
    }
   ],
   "source": [
    "not_ok = 1;\n",
    "while(not_ok == 1):\n",
    "  not_ok = 0;\n",
    "  for i in range(len(inputs)):\n",
    "    local_inputs = inputs[i][\"inp\"]\n",
    "    expected_val = inputs[i][\"exp\"]\n",
    "    result = activation(local_inputs, weights)\n",
    "    change = expected_val - result\n",
    "    if (change != 0):\n",
    "      not_ok = 1;\n",
    "    weights = change_with(weights, change, local_inputs)\n",
    "print(weights)"
   ]
  },
  {
   "cell_type": "code",
   "execution_count": 9,
   "metadata": {
    "colab": {},
    "colab_type": "code",
    "id": "NT0EMWZimBCv"
   },
   "outputs": [],
   "source": [
    "import numpy as np\n",
    "\n",
    "class Perceptron(object):\n",
    "\n",
    "    def __init__(self, no_of_inputs, threshold=100, learning_rate=0.01):\n",
    "        self.threshold = threshold\n",
    "        self.learning_rate = learning_rate\n",
    "        self.weights = np.zeros(no_of_inputs + 1)\n",
    "           \n",
    "    def predict(self, inputs):\n",
    "        summation = np.dot(inputs, self.weights[1:]) + self.weights[0]\n",
    "        if summation > 0:\n",
    "          activation = 1\n",
    "        else:\n",
    "          activation = 0            \n",
    "        return activation\n",
    "\n",
    "    def train(self, training_inputs, labels):\n",
    "        for _ in range(self.threshold):\n",
    "            for inputs, label in zip(training_inputs, labels):\n",
    "                prediction = self.predict(inputs)\n",
    "                self.weights[1:] += self.learning_rate * (label - prediction) * inputs\n",
    "                self.weights[0] += self.learning_rate * (label - prediction)"
   ]
  },
  {
   "cell_type": "code",
   "execution_count": 10,
   "metadata": {
    "colab": {
     "base_uri": "https://localhost:8080/",
     "height": 34
    },
    "colab_type": "code",
    "id": "ZsBRPwkKmIN0",
    "outputId": "ea147abd-6400-42c1-998e-c13ed3a905ca"
   },
   "outputs": [
    {
     "data": {
      "text/plain": [
       "1"
      ]
     },
     "execution_count": 10,
     "metadata": {},
     "output_type": "execute_result"
    }
   ],
   "source": [
    "training_inputs = []\n",
    "training_inputs.append(np.array([1, 1]))\n",
    "training_inputs.append(np.array([1, 0]))\n",
    "training_inputs.append(np.array([0, 1]))\n",
    "training_inputs.append(np.array([0, 0]))\n",
    "\n",
    "labels = np.array([1, 0, 0, 0])\n",
    "\n",
    "perceptron = Perceptron(2)\n",
    "perceptron.train(training_inputs, labels)\n",
    "\n",
    "inputs = np.array([1, 1])\n",
    "perceptron.predict(inputs) \n",
    "#=> 1\n",
    "\n",
    "inputs = np.array([1, 1])\n",
    "perceptron.predict(inputs) "
   ]
  },
  {
   "cell_type": "code",
   "execution_count": null,
   "metadata": {},
   "outputs": [],
   "source": []
  },
  {
   "cell_type": "code",
   "execution_count": null,
   "metadata": {},
   "outputs": [],
   "source": []
  }
 ],
 "metadata": {
  "colab": {
   "collapsed_sections": [],
   "name": "Lab_si_perceptron.ipynb",
   "provenance": []
  },
  "kernelspec": {
   "display_name": "Python 3",
   "language": "python",
   "name": "python3"
  },
  "language_info": {
   "codemirror_mode": {
    "name": "ipython",
    "version": 3
   },
   "file_extension": ".py",
   "mimetype": "text/x-python",
   "name": "python",
   "nbconvert_exporter": "python",
   "pygments_lexer": "ipython3",
   "version": "3.7.4"
  }
 },
 "nbformat": 4,
 "nbformat_minor": 1
}
