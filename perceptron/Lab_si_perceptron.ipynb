{
  "nbformat": 4,
  "nbformat_minor": 0,
  "metadata": {
    "colab": {
      "name": "Lab_si_perceptron.ipynb",
      "provenance": [],
      "collapsed_sections": []
    },
    "kernelspec": {
      "name": "python3",
      "display_name": "Python 3"
    }
  },
  "cells": [
    {
      "cell_type": "markdown",
      "metadata": {
        "id": "mdAxpsvjfBZq",
        "colab_type": "text"
      },
      "source": [
        "perceptron 1"
      ]
    },
    {
      "cell_type": "code",
      "metadata": {
        "id": "6EdILnCpZT2K",
        "colab_type": "code",
        "colab": {}
      },
      "source": [
        "inputs = [1, 0, 1, 0]\n",
        "weights=[2, 3, 1, 3]\n",
        "bias = 2"
      ],
      "execution_count": 0,
      "outputs": []
    },
    {
      "cell_type": "code",
      "metadata": {
        "id": "hXt8zpZudDti",
        "colab_type": "code",
        "outputId": "499b2be8-4a2e-44c8-f819-584816714723",
        "colab": {
          "base_uri": "https://localhost:8080/",
          "height": 34
        }
      },
      "source": [
        "def perce_fct(inputs, weights):\n",
        "  sum = 0\n",
        "  for i in range(len(inputs)):\n",
        "    sum += inputs[i]*weights[i]\n",
        "  return sum;\n",
        "sum = perce_fct(inputs, weights)  \n",
        "print(sum)"
      ],
      "execution_count": 0,
      "outputs": [
        {
          "output_type": "stream",
          "text": [
            "3\n"
          ],
          "name": "stdout"
        }
      ]
    },
    {
      "cell_type": "code",
      "metadata": {
        "id": "AwebDfs1dsAS",
        "colab_type": "code",
        "outputId": "35680093-d3ab-4a2f-8408-e7cc99307373",
        "colab": {
          "base_uri": "https://localhost:8080/",
          "height": 34
        }
      },
      "source": [
        "if (sum > bias):\n",
        "  print(\"Activation\")\n",
        "else:\n",
        "  print(\"Not active\")"
      ],
      "execution_count": 0,
      "outputs": [
        {
          "output_type": "stream",
          "text": [
            "Not active\n"
          ],
          "name": "stdout"
        }
      ]
    },
    {
      "cell_type": "code",
      "metadata": {
        "id": "WIx-ZPC4e_UG",
        "colab_type": "code",
        "colab": {}
      },
      "source": [
        ""
      ],
      "execution_count": 0,
      "outputs": []
    },
    {
      "cell_type": "markdown",
      "metadata": {
        "id": "4JnscFK-fAKa",
        "colab_type": "text"
      },
      "source": [
        "and perceptron"
      ]
    },
    {
      "cell_type": "code",
      "metadata": {
        "id": "Cnj4-aAffG_5",
        "colab_type": "code",
        "outputId": "87c78bb4-801f-4098-cf3e-76273735031e",
        "colab": {
          "base_uri": "https://localhost:8080/",
          "height": 34
        }
      },
      "source": [
        "x1 = 0\n",
        "x2 = 0\n",
        "\n",
        "def and_p(x1, x2):\n",
        "  bias = -3;\n",
        "  w = 3;\n",
        "  return x1*w + x2 * w + bias > 0\n",
        "\n",
        "and_p(x1, x2)"
      ],
      "execution_count": 0,
      "outputs": [
        {
          "output_type": "execute_result",
          "data": {
            "text/plain": [
              "False"
            ]
          },
          "metadata": {
            "tags": []
          },
          "execution_count": 18
        }
      ]
    },
    {
      "cell_type": "markdown",
      "metadata": {
        "id": "DitOu5Nog2c1",
        "colab_type": "text"
      },
      "source": [
        "P3"
      ]
    },
    {
      "cell_type": "code",
      "metadata": {
        "id": "wc0IGGGKg3kq",
        "colab_type": "code",
        "colab": {}
      },
      "source": [
        ""
      ],
      "execution_count": 0,
      "outputs": []
    },
    {
      "cell_type": "code",
      "metadata": {
        "colab_type": "code",
        "id": "EJF6hUB6g5sY",
        "colab": {}
      },
      "source": [
        "inputs = [{\"inp\":[1, 1, 1], \"exp\":1},{\"inp\":[1, 0, 1], \"exp\":0}, {\"inp\":[1, 0, 0], \"exp\":0}, {\"inp\":[1, 1, 0], \"exp\":0}];\n",
        "weights=[0, 0, 0]"
      ],
      "execution_count": 0,
      "outputs": []
    },
    {
      "cell_type": "code",
      "metadata": {
        "id": "lBetuofUhT3L",
        "colab_type": "code",
        "colab": {}
      },
      "source": [
        "def activation(inputs, weights):\n",
        "  sum = perce_fct(inputs, weights)\n",
        "  if(sum > 0):\n",
        "    return 1\n",
        "  return 0"
      ],
      "execution_count": 0,
      "outputs": []
    },
    {
      "cell_type": "code",
      "metadata": {
        "id": "5jV9pQi4j0Ie",
        "colab_type": "code",
        "colab": {}
      },
      "source": [
        "def change_with(weights, value, inputs):\n",
        "  for i in range(len(weights)):\n",
        "    weights[i] = weights[i] + inputs[i] * value;\n",
        "  return weights"
      ],
      "execution_count": 0,
      "outputs": []
    },
    {
      "cell_type": "code",
      "metadata": {
        "id": "ICjzGLjHiIvu",
        "colab_type": "code",
        "outputId": "5baa034c-fb5d-42f1-bb78-963362667a17",
        "colab": {
          "base_uri": "https://localhost:8080/",
          "height": 34
        }
      },
      "source": [
        "not_ok = 1;\n",
        "while(not_ok == 1):\n",
        "  not_ok = 0;\n",
        "  for i in range(len(inputs)):\n",
        "    local_inputs = inputs[i][\"inp\"]\n",
        "    expected_val = inputs[i][\"exp\"]\n",
        "    result = activation(local_inputs, weights)\n",
        "    change = expected_val - result\n",
        "    if (change != 0):\n",
        "      not_ok = 1;\n",
        "    weights = change_with(weights, change, local_inputs)\n",
        "print(weights)"
      ],
      "execution_count": 0,
      "outputs": [
        {
          "output_type": "stream",
          "text": [
            "[-2, 2, 1]\n"
          ],
          "name": "stdout"
        }
      ]
    },
    {
      "cell_type": "code",
      "metadata": {
        "id": "NT0EMWZimBCv",
        "colab_type": "code",
        "colab": {}
      },
      "source": [
        "import numpy as np\n",
        "\n",
        "class Perceptron(object):\n",
        "\n",
        "    def __init__(self, no_of_inputs, threshold=100, learning_rate=0.01):\n",
        "        self.threshold = threshold\n",
        "        self.learning_rate = learning_rate\n",
        "        self.weights = np.zeros(no_of_inputs + 1)\n",
        "           \n",
        "    def predict(self, inputs):\n",
        "        summation = np.dot(inputs, self.weights[1:]) + self.weights[0]\n",
        "        if summation > 0:\n",
        "          activation = 1\n",
        "        else:\n",
        "          activation = 0            \n",
        "        return activation\n",
        "\n",
        "    def train(self, training_inputs, labels):\n",
        "        for _ in range(self.threshold):\n",
        "            for inputs, label in zip(training_inputs, labels):\n",
        "                prediction = self.predict(inputs)\n",
        "                self.weights[1:] += self.learning_rate * (label - prediction) * inputs\n",
        "                self.weights[0] += self.learning_rate * (label - prediction)"
      ],
      "execution_count": 0,
      "outputs": []
    },
    {
      "cell_type": "code",
      "metadata": {
        "id": "ZsBRPwkKmIN0",
        "colab_type": "code",
        "outputId": "ea147abd-6400-42c1-998e-c13ed3a905ca",
        "colab": {
          "base_uri": "https://localhost:8080/",
          "height": 34
        }
      },
      "source": [
        "training_inputs = []\n",
        "training_inputs.append(np.array([1, 1]))\n",
        "training_inputs.append(np.array([1, 0]))\n",
        "training_inputs.append(np.array([0, 1]))\n",
        "training_inputs.append(np.array([0, 0]))\n",
        "\n",
        "labels = np.array([1, 0, 0, 0])\n",
        "\n",
        "perceptron = Perceptron(2)\n",
        "perceptron.train(training_inputs, labels)\n",
        "\n",
        "inputs = np.array([1, 1])\n",
        "perceptron.predict(inputs) \n",
        "#=> 1\n",
        "\n",
        "inputs = np.array([1, 1])\n",
        "perceptron.predict(inputs) "
      ],
      "execution_count": 0,
      "outputs": [
        {
          "output_type": "execute_result",
          "data": {
            "text/plain": [
              "1"
            ]
          },
          "metadata": {
            "tags": []
          },
          "execution_count": 41
        }
      ]
    }
  ]
}