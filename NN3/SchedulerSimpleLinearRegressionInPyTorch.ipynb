{
  "nbformat": 4,
  "nbformat_minor": 0,
  "metadata": {
    "colab": {
      "name": "SchedulerSimpleLinearRegressionInPyTorch.ipynb",
      "provenance": []
    },
    "kernelspec": {
      "name": "python3",
      "display_name": "Python 3"
    }
  },
  "cells": [
    {
      "cell_type": "code",
      "metadata": {
        "id": "axshkt9lNVwd",
        "colab_type": "code",
        "colab": {}
      },
      "source": [
        "#Matplotlib - librărie folosită pentru figuri grafice\n",
        "import matplotlib.pyplot as plt\n",
        "#Numpy - librărie pentru operații numerice\n",
        "import numpy as np\n",
        "\n",
        "# PyTorch - framework pentru Machine Learning\n",
        "import torch\n",
        "# nn - neural network\n",
        "import torch.nn as nn"
      ],
      "execution_count": 0,
      "outputs": []
    },
    {
      "cell_type": "code",
      "metadata": {
        "id": "OdDUpGTFNW8O",
        "colab_type": "code",
        "colab": {}
      },
      "source": [
        "#Generare set de date de training folosind matplotlib\n",
        "x = np.random.rand(100)\n",
        "y = np.sin(x) * np.power(x,3) + 3*x + np.random.rand(100)*0.8\n",
        "\n",
        "plt.scatter(x, y)\n",
        "plt.show()"
      ],
      "execution_count": 0,
      "outputs": []
    },
    {
      "cell_type": "code",
      "metadata": {
        "id": "YMMBmIFgQHTS",
        "colab_type": "code",
        "colab": {}
      },
      "source": [
        "print(x)"
      ],
      "execution_count": 0,
      "outputs": []
    },
    {
      "cell_type": "code",
      "metadata": {
        "id": "1G8WwUP6QJ3R",
        "colab_type": "code",
        "colab": {}
      },
      "source": [
        "#\n",
        "print(x.shape)"
      ],
      "execution_count": 0,
      "outputs": []
    },
    {
      "cell_type": "code",
      "metadata": {
        "id": "2vcx6fUyQMtD",
        "colab_type": "code",
        "colab": {}
      },
      "source": [
        "print(x.reshape(-1,1))"
      ],
      "execution_count": 0,
      "outputs": []
    },
    {
      "cell_type": "code",
      "metadata": {
        "id": "J0OrmzcOQMvR",
        "colab_type": "code",
        "colab": {}
      },
      "source": [
        "print(x.reshape(-1,1).shape)"
      ],
      "execution_count": 0,
      "outputs": []
    },
    {
      "cell_type": "code",
      "metadata": {
        "id": "XtCuuKwkNW_O",
        "colab_type": "code",
        "colab": {}
      },
      "source": [
        "# convert numpy array to tensor in shape of input size\n",
        "x = torch.from_numpy(x.reshape(-1,1)).float()\n",
        "y = torch.from_numpy(y.reshape(-1,1)).float()\n",
        "print(x, y)"
      ],
      "execution_count": 0,
      "outputs": []
    },
    {
      "cell_type": "code",
      "metadata": {
        "id": "1Ifj96qCNXB5",
        "colab_type": "code",
        "colab": {}
      },
      "source": [
        ""
      ],
      "execution_count": 0,
      "outputs": []
    },
    {
      "cell_type": "code",
      "metadata": {
        "id": "H0pm5IFKNXE_",
        "colab_type": "code",
        "colab": {}
      },
      "source": [
        "class Net(nn.Module):\n",
        "   def __init__(self):\n",
        "       super(Net, self).__init__()\n",
        "       self.layer = torch.nn.Linear(1, 1)\n",
        "\n",
        "   def forward(self, x):\n",
        "       x = self.layer(x)      \n",
        "       return x"
      ],
      "execution_count": 0,
      "outputs": []
    },
    {
      "cell_type": "code",
      "metadata": {
        "id": "L5Ek64bZNXHD",
        "colab_type": "code",
        "colab": {}
      },
      "source": [
        "net = Net()\n",
        "print(net)"
      ],
      "execution_count": 0,
      "outputs": []
    },
    {
      "cell_type": "code",
      "metadata": {
        "id": "vyQvlDq2H1P2",
        "colab_type": "code",
        "colab": {}
      },
      "source": [
        "# Define Optimizer and Loss Function\n",
        "\n",
        "# Optimizer \n",
        "# SGD - Stocastic Gradient Descent \n",
        "# Lr - Learning Rate\n",
        "optimizer = torch.optim.SGD(net.parameters(), lr=0.2)\n",
        "\n",
        "\n",
        "#Scheduler - scade learning rate-ul în momentul în care după 5 epoci nu se îmbunătățește nimic.\n",
        "# Patience = 5 - indică numărul de epoci pe după care dacă nu apar îmbunătățiri, algoritmul scade learning rate-ul\n",
        "# Verbose = True, algoritmul va afișa momentul în care decide să scadă learning rate-ul\n",
        "scheduler=torch.optim.lr_scheduler.ReduceLROnPlateau(optimizer, patience=5, verbose=True)\n",
        "\n",
        "#MSELoss - Mean Square Error Loss \n",
        "loss_func = torch.nn.MSELoss()"
      ],
      "execution_count": 0,
      "outputs": []
    },
    {
      "cell_type": "code",
      "metadata": {
        "id": "cqq5bKe3H1Sg",
        "colab_type": "code",
        "colab": {}
      },
      "source": [
        "inputs = x\n",
        "outputs = y\n",
        "\n",
        "for i in range(250):\n",
        "\n",
        "   # Forward prin rețeaua neurală\n",
        "   prediction = net(inputs)\n",
        "\n",
        "   #Calculăm loss-ul\n",
        "   loss = loss_func(prediction, outputs)\n",
        "   \n",
        "   #Ștergem gradientul anterior\n",
        "   optimizer.zero_grad()\n",
        "   \n",
        "   #Realizăm backpropagation. Obținem gradientul pentru parametrii rețelei neurale\n",
        "   loss.backward()        \n",
        "   \n",
        "   #Updatăm parametrii rețelei în funcție de calculele făcute\n",
        "   optimizer.step()    \n",
        "   \n",
        "   # Scheduler-ul de learning rate va decide dacă trebuie să scădem learning rate-ul\n",
        "   # E foarte important ca să apelăm linia de mai jos după incheierea unei epoci și după ce am apelat optimizer.step()\n",
        "   scheduler.step(loss)   \n",
        "\n",
        "   if i % 10 == 0:\n",
        "       # plot and show learning process\n",
        "       plt.cla()\n",
        "       plt.scatter(x.data.numpy(), y.data.numpy())\n",
        "       plt.plot(x.data.numpy(), prediction.data.numpy(), 'r-', lw=2)\n",
        "       plt.text(0.5, 0, 'Loss=%.4f' % loss.data.numpy(), fontdict={'size': 10, 'color':  'red'})\n",
        "       plt.pause(0.1)\n",
        "\n",
        "plt.show()"
      ],
      "execution_count": 0,
      "outputs": []
    },
    {
      "cell_type": "code",
      "metadata": {
        "id": "8hYh9bSrH1VM",
        "colab_type": "code",
        "colab": {}
      },
      "source": [
        ""
      ],
      "execution_count": 0,
      "outputs": []
    },
    {
      "cell_type": "code",
      "metadata": {
        "id": "b8d_9JI6H1XG",
        "colab_type": "code",
        "colab": {}
      },
      "source": [
        ""
      ],
      "execution_count": 0,
      "outputs": []
    },
    {
      "cell_type": "code",
      "metadata": {
        "id": "lM3yzlgtH1az",
        "colab_type": "code",
        "colab": {}
      },
      "source": [
        ""
      ],
      "execution_count": 0,
      "outputs": []
    },
    {
      "cell_type": "code",
      "metadata": {
        "id": "kVxk-qniH1dF",
        "colab_type": "code",
        "colab": {}
      },
      "source": [
        ""
      ],
      "execution_count": 0,
      "outputs": []
    },
    {
      "cell_type": "code",
      "metadata": {
        "id": "1vT48XGiH1eu",
        "colab_type": "code",
        "colab": {}
      },
      "source": [
        ""
      ],
      "execution_count": 0,
      "outputs": []
    },
    {
      "cell_type": "code",
      "metadata": {
        "id": "F36s88bjH1h2",
        "colab_type": "code",
        "colab": {}
      },
      "source": [
        ""
      ],
      "execution_count": 0,
      "outputs": []
    },
    {
      "cell_type": "code",
      "metadata": {
        "id": "s89e8gjFH1j1",
        "colab_type": "code",
        "colab": {}
      },
      "source": [
        ""
      ],
      "execution_count": 0,
      "outputs": []
    },
    {
      "cell_type": "code",
      "metadata": {
        "id": "5K5luyl5H1mX",
        "colab_type": "code",
        "colab": {}
      },
      "source": [
        ""
      ],
      "execution_count": 0,
      "outputs": []
    }
  ]
}